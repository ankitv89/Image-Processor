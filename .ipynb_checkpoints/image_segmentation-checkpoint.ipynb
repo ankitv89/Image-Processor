{
 "cells": [
  {
   "cell_type": "markdown",
   "metadata": {},
   "source": [
    "Read demo image: test.png  \n",
    "Show image in plot"
   ]
  },
  {
   "cell_type": "code",
   "execution_count": 1,
   "metadata": {
    "collapsed": false
   },
   "outputs": [
    {
     "name": "stderr",
     "output_type": "stream",
     "text": [
      "C:\\Python34\\lib\\site-packages\\skimage\\util\\dtype.py:111: UserWarning: Possible precision loss when converting from float64 to uint8\n",
      "  \"%s to %s\" % (dtypeobj_in, dtypeobj))\n"
     ]
    }
   ],
   "source": [
    "import numpy as np\n",
    "import matplotlib.pyplot as plt\n",
    "from skimage import io, img_as_ubyte, exposure\n",
    "from skimage.color import rgb2gray\n",
    "\n",
    "# Read test image and convert image to grayscale image\n",
    "image = io.imread('image_sample\\\\test.png')\n",
    "gray_image = exposure.rescale_intensity(img_as_ubyte(rgb2gray(image)), out_range=(0, 255))"
   ]
  },
  {
   "cell_type": "code",
   "execution_count": 2,
   "metadata": {
    "collapsed": false
   },
   "outputs": [
    {
     "name": "stdout",
     "output_type": "stream",
     "text": [
      "uint8\n"
     ]
    }
   ],
   "source": [
    "# Show image\n",
    "print(gray_image.dtype)\n",
    "plt.imshow(gray_image, cmap='gray')\n",
    "plt.show()"
   ]
  },
  {
   "cell_type": "markdown",
   "metadata": {},
   "source": [
    "Remove noise"
   ]
  },
  {
   "cell_type": "code",
   "execution_count": null,
   "metadata": {
    "collapsed": false
   },
   "outputs": [],
   "source": [
    "open_square = ndimage.binary_opening(gray_image)\n",
    "eroded_square = ndimage.binary_erosion(open_square)\n",
    "reconstruction = ndimage.binary_propagation(eroded_square)\n",
    "\n",
    "plt.imshow(open_square, cmap='gray')\n",
    "plt.show()"
   ]
  },
  {
   "cell_type": "markdown",
   "metadata": {},
   "source": [
    "Segmentation by histogram"
   ]
  },
  {
   "cell_type": "code",
   "execution_count": 3,
   "metadata": {
    "collapsed": false
   },
   "outputs": [],
   "source": [
    "from skimage import data\n",
    "\n",
    "plt.ylabel('Frequency')\n",
    "plt.xlabel('Value')\n",
    "plt.hist(gray_image.flatten(), 256, range=(0,255))\n",
    "plt.show()\n"
   ]
  },
  {
   "cell_type": "markdown",
   "metadata": {},
   "source": [
    "Try to use histogram to segment foreground and background image"
   ]
  },
  {
   "cell_type": "code",
   "execution_count": 5,
   "metadata": {
    "collapsed": false
   },
   "outputs": [],
   "source": [
    "# The threshold value is first pixel in gray scale image\n",
    "person_area = np.zeros_like(gray_image)\n",
    "person_area[gray_image < gray_image[0][0]] = 1\n",
    "plt.imshow(person_area)\n",
    "plt.show()"
   ]
  },
  {
   "cell_type": "code",
   "execution_count": 28,
   "metadata": {
    "collapsed": false
   },
   "outputs": [],
   "source": [
    "square = np.zeros((32, 32))\n",
    "square[10:-10, 10:-10] = 1\n",
    "np.random.seed(2)\n",
    "x, y = (32*np.random.random((2, 20))).astype(np.int)\n",
    "square[x, y] = 1\n",
    "open_square = ndimage.binary_opening(square)\n",
    "eroded_square = ndimage.binary_erosion(open_square)\n",
    "reconstruction = ndimage.binary_propagation(eroded_square, mask=square)\n",
    "\n",
    "plt.imshow(open_square)\n",
    "plt.show()"
   ]
  }
 ],
 "metadata": {
  "kernelspec": {
   "display_name": "Python 3",
   "language": "python",
   "name": "python3"
  },
  "language_info": {
   "codemirror_mode": {
    "name": "ipython",
    "version": 3
   },
   "file_extension": ".py",
   "mimetype": "text/x-python",
   "name": "python",
   "nbconvert_exporter": "python",
   "pygments_lexer": "ipython3",
   "version": "3.4.3"
  }
 },
 "nbformat": 4,
 "nbformat_minor": 0
}
