{
 "cells": [
  {
   "cell_type": "markdown",
   "metadata": {},
   "source": [
    "Read demo image: test.png  \n",
    "Show image in plot"
   ]
  },
  {
   "cell_type": "code",
   "execution_count": 1,
   "metadata": {
    "collapsed": false
   },
   "outputs": [
    {
     "name": "stderr",
     "output_type": "stream",
     "text": [
      "C:\\Python34\\lib\\site-packages\\skimage\\util\\dtype.py:111: UserWarning: Possible precision loss when converting from float64 to uint8\n",
      "  \"%s to %s\" % (dtypeobj_in, dtypeobj))\n"
     ]
    }
   ],
   "source": [
    "import numpy as np\n",
    "import matplotlib.pyplot as plt\n",
    "from skimage import io, img_as_ubyte, exposure, img_as_float, morphology, filter\n",
    "from skimage.color import rgb2gray\n",
    "\n",
    "# Read test image and convert image to grayscale image\n",
    "image = io.imread('image_sample\\\\test.png')\n",
    "gray_image = exposure.rescale_intensity(img_as_ubyte(rgb2gray(image)), out_range=(0, 255))"
   ]
  },
  {
   "cell_type": "code",
   "execution_count": 2,
   "metadata": {
    "collapsed": false
   },
   "outputs": [
    {
     "name": "stdout",
     "output_type": "stream",
     "text": [
      "uint8\n"
     ]
    }
   ],
   "source": [
    "# Show image\n",
    "print(gray_image.dtype)\n",
    "plt.imshow(gray_image, cmap='gray')\n",
    "plt.show()"
   ]
  },
  {
   "cell_type": "markdown",
   "metadata": {},
   "source": [
    "Remove noise"
   ]
  },
  {
   "cell_type": "code",
   "execution_count": 3,
   "metadata": {
    "collapsed": false,
    "scrolled": true
   },
   "outputs": [
    {
     "name": "stderr",
     "output_type": "stream",
     "text": [
      "C:\\Python34\\lib\\site-packages\\skimage\\filter\\__init__.py:6: skimage_deprecation: The `skimage.filter` module has been renamed to `skimage.filters`.  This placeholder module will be removed in v0.13.\n",
      "  warn(skimage_deprecation('The `skimage.filter` module has been renamed '\n"
     ]
    }
   ],
   "source": [
    "removed_noise = filter.median(gray_image, morphology.disk(5))\n",
    "\n",
    "plt.imshow(removed_noise, cmap='gray')\n",
    "plt.show()"
   ]
  },
  {
   "cell_type": "markdown",
   "metadata": {},
   "source": [
    "Segmentation by histogram"
   ]
  },
  {
   "cell_type": "code",
   "execution_count": 4,
   "metadata": {
    "collapsed": false
   },
   "outputs": [],
   "source": [
    "from skimage import data\n",
    "\n",
    "plt.ylabel('Frequency')\n",
    "plt.xlabel('Value')\n",
    "plt.hist(removed_noise.flatten(), 256, range=(0,255))\n",
    "plt.show()\n"
   ]
  },
  {
   "cell_type": "markdown",
   "metadata": {},
   "source": [
    "Try to use histogram to segment foreground and background image"
   ]
  },
  {
   "cell_type": "code",
   "execution_count": 9,
   "metadata": {
    "collapsed": false
   },
   "outputs": [
    {
     "name": "stderr",
     "output_type": "stream",
     "text": [
      "C:\\Python34\\lib\\site-packages\\skimage\\io\\_io.py:159: UserWarning: image_sample\\person_area.png is a low contrast image\n",
      "  warnings.warn('%s is a low contrast image' % fname)\n"
     ]
    }
   ],
   "source": [
    "# The threshold value is first pixel in gray scale image\n",
    "person_area = np.zeros_like(removed_noise)\n",
    "person_area[removed_noise < removed_noise[0][0]] = 1\n",
    "\n",
    "# Save image to file\n",
    "io.imsave('image_sample\\\\person_area.png', skimage.img_as_float(person_area))\n",
    "\n",
    "plt.imshow(person_area)\n",
    "plt.show()"
   ]
  },
  {
   "cell_type": "markdown",
   "metadata": {},
   "source": [
    "Using the skeletonization method to find human body structure"
   ]
  },
  {
   "cell_type": "code",
   "execution_count": 7,
   "metadata": {
    "collapsed": false
   },
   "outputs": [
    {
     "name": "stderr",
     "output_type": "stream",
     "text": [
      "C:\\Python34\\lib\\site-packages\\skimage\\io\\_io.py:159: UserWarning: image_sample\\skeleton.png is a low contrast image\n",
      "  warnings.warn('%s is a low contrast image' % fname)\n"
     ]
    }
   ],
   "source": [
    "skeleton_image = morphology.skeletonize(person_area)\n",
    "\n",
    "\n",
    "\n",
    "plt.imshow(skeleton_image)\n",
    "plt.show()"
   ]
  }
 ],
 "metadata": {
  "kernelspec": {
   "display_name": "Python 3",
   "language": "python",
   "name": "python3"
  },
  "language_info": {
   "codemirror_mode": {
    "name": "ipython",
    "version": 3
   },
   "file_extension": ".py",
   "mimetype": "text/x-python",
   "name": "python",
   "nbconvert_exporter": "python",
   "pygments_lexer": "ipython3",
   "version": "3.4.3"
  }
 },
 "nbformat": 4,
 "nbformat_minor": 0
}
