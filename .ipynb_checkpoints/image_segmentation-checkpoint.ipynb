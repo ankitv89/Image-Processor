{
 "cells": [
  {
   "cell_type": "markdown",
   "metadata": {},
   "source": [
    "Read demo image: test \n",
    "Show image in plot"
   ]
  },
  {
   "cell_type": "code",
   "execution_count": 31,
   "metadata": {
    "collapsed": false
   },
   "outputs": [],
   "source": [
    "import numpy as np\n",
    "import matplotlib.pyplot as plt\n",
    "from skimage import io, img_as_ubyte, exposure, img_as_float, morphology, filters, restoration, feature\n",
    "from skimage.color import rgb2gray\n",
    "\n",
    "# Read test image and convert image to grayscale image\n",
    "image = io.imread('image_sample\\\\test2.jpg')\n"
   ]
  },
  {
   "cell_type": "code",
   "execution_count": 32,
   "metadata": {
    "collapsed": false
   },
   "outputs": [
    {
     "name": "stderr",
     "output_type": "stream",
     "text": [
      "C:\\Python34\\lib\\site-packages\\skimage\\util\\dtype.py:111: UserWarning: Possible precision loss when converting from float64 to uint8\n",
      "  \"%s to %s\" % (dtypeobj_in, dtypeobj))\n"
     ]
    }
   ],
   "source": [
    "gray_image = exposure.rescale_intensity(img_as_ubyte(rgb2gray(image)), out_range=(0, 255))"
   ]
  },
  {
   "cell_type": "code",
   "execution_count": 33,
   "metadata": {
    "collapsed": false
   },
   "outputs": [
    {
     "name": "stdout",
     "output_type": "stream",
     "text": [
      "uint8\n"
     ]
    }
   ],
   "source": [
    "# Show image\n",
    "print(gray_image.dtype)\n",
    "plt.imshow(gray_image, cmap='gray')\n",
    "plt.show()"
   ]
  },
  {
   "cell_type": "markdown",
   "metadata": {},
   "source": [
    "Remove salt & pepper noise"
   ]
  },
  {
   "cell_type": "code",
   "execution_count": 34,
   "metadata": {
    "collapsed": false,
    "scrolled": true
   },
   "outputs": [],
   "source": [
    "removed_noise = filters.median(gray_image, morphology.disk(10))\n",
    "\n",
    "# Save image to file\n",
    "io.imsave('image_sample\\\\removed_noise.png', removed_noise)\n",
    "\n",
    "plt.imshow(removed_noise, cmap='gray')\n",
    "plt.show()"
   ]
  },
  {
   "cell_type": "markdown",
   "metadata": {},
   "source": [
    "Finding edges"
   ]
  },
  {
   "cell_type": "code",
   "execution_count": 40,
   "metadata": {
    "collapsed": false
   },
   "outputs": [],
   "source": [
    "from skimage import segmentation, measure, color\n",
    "from scipy import ndimage\n",
    "\n",
    "# Finding edges using filter\n",
    "elevation_map = filters.roberts(removed_noise)\n",
    "elevation_map = morphology.dilation(elevation_map)\n",
    "\n",
    "markers = np.zeros_like(removed_noise)\n",
    "markers[removed_noise < 30] = 1\n",
    "markers[removed_noise > 150] = 2\n",
    "\n",
    "segments = morphology.watershed(elevation_map, markers)\n",
    "\n",
    "segments = ndimage.binary_fill_holes(segments - 1)\n",
    "\n",
    "plt.imshow(segments, cmap='gray')\n",
    "plt.show()"
   ]
  },
  {
   "cell_type": "code",
   "execution_count": 28,
   "metadata": {
    "collapsed": false
   },
   "outputs": [
    {
     "name": "stderr",
     "output_type": "stream",
     "text": [
      "C:\\Python34\\lib\\site-packages\\IPython\\kernel\\__main__.py:6: RuntimeWarning: divide by zero encountered in true_divide\n",
      "C:\\Python34\\lib\\site-packages\\IPython\\kernel\\__main__.py:6: RuntimeWarning: invalid value encountered in true_divide\n",
      "C:\\Python34\\lib\\site-packages\\IPython\\kernel\\__main__.py:7: RuntimeWarning: divide by zero encountered in true_divide\n",
      "C:\\Python34\\lib\\site-packages\\IPython\\kernel\\__main__.py:7: RuntimeWarning: invalid value encountered in true_divide\n",
      "C:\\Python34\\lib\\site-packages\\IPython\\kernel\\__main__.py:8: RuntimeWarning: divide by zero encountered in true_divide\n",
      "C:\\Python34\\lib\\site-packages\\IPython\\kernel\\__main__.py:8: RuntimeWarning: invalid value encountered in true_divide\n",
      "C:\\Python34\\lib\\site-packages\\IPython\\kernel\\__main__.py:10: RuntimeWarning: invalid value encountered in greater\n"
     ]
    }
   ],
   "source": [
    "def skin_detection(image):\n",
    "    res = image.copy()\n",
    "    r, g, b = res[:, :, 0], res[:, :, 1], res[:, :, 2]\n",
    "    \n",
    "    # group 1\n",
    "    condition1 = r / b\n",
    "    condition2 = r * b / np.square(r + g + b)\n",
    "    condition3 = r * g / np.square(r + g + b)\n",
    "\n",
    "    group1 = np.logical_and(condition1 > 1.185, condition2 > 0.107, condition3 > 0.112)\n",
    "    \n",
    "    # or group 2\n",
    "    maximum = np.maximum(np.maximum(r, g), b)\n",
    "    minimum = np.minimum(np.minimum(r, g), b)\n",
    "    diff = maximum - minimum\n",
    "    \n",
    "    con1 = np.logical_and(np.logical_and(r > 95, g > 40), b < 20)\n",
    "    con2 = np.logical_and(con1,  diff > 15)\n",
    "    con3 = np.logical_and(np.logical_and(np.absolute(r - g) > 15, r > g), r > b)\n",
    "    \n",
    "    group2 = np.logical_and(np.logical_and(con1, con2), con3)\n",
    "    \n",
    "    # or group 3\n",
    "    con4 = np.logical_and(np.logical_and(r > 220, g > 210), b > 170)\n",
    "    con5 = np.logical_and(con1,  np.absolute(r - g) <= 15)\n",
    "    con6 = np.logical_and(r > b, g > b)\n",
    "        \n",
    "    group3 = np.logical_and(np.logical_and(con4, con5), con6)\n",
    "    \n",
    "    skin_mask = np.logical_not(np.logical_or(np.logical_or(group1, group2), group3))\n",
    "    \n",
    "    # Mark skin pixel to blue color\n",
    "    res[skin_mask == True] = [0, 0, 0]\n",
    "    \n",
    "    return skin_mask, res\n",
    "\n",
    "mask, res = skin_detection(image)\n",
    "\n",
    "plt.imshow(res)\n",
    "plt.show()\n"
   ]
  },
  {
   "cell_type": "markdown",
   "metadata": {},
   "source": [
    "Merge skin dection method with edges detection"
   ]
  },
  {
   "cell_type": "code",
   "execution_count": 29,
   "metadata": {
    "collapsed": false
   },
   "outputs": [
    {
     "name": "stdout",
     "output_type": "stream",
     "text": [
      "[[False False False ..., False False False]\n",
      " [False False False ..., False False False]\n",
      " [False False False ..., False False False]\n",
      " ..., \n",
      " [False False False ..., False False False]\n",
      " [False False False ..., False False False]\n",
      " [False False False ..., False False False]] [[ True  True  True ...,  True  True  True]\n",
      " [ True  True  True ...,  True  True  True]\n",
      " [ True  True  True ...,  True  True  True]\n",
      " ..., \n",
      " [ True  True  True ...,  True  True  True]\n",
      " [ True  True  True ...,  True  True  True]\n",
      " [ True  True  True ...,  True  True  True]]\n"
     ]
    }
   ],
   "source": [
    "merged_region = np.logical_and(segments, mask)\n",
    "\n",
    "print(segments, mask)\n",
    "\n",
    "plt.imshow(merged_region, cmap='gray')\n",
    "plt.show()"
   ]
  },
  {
   "cell_type": "markdown",
   "metadata": {},
   "source": [
    "Using the skeletonization method to find human body structure"
   ]
  },
  {
   "cell_type": "code",
   "execution_count": null,
   "metadata": {
    "collapsed": false
   },
   "outputs": [],
   "source": [
    "skeleton_image = morphology.skeletonize(person_area)\n",
    "\n",
    "plt.imshow(skeleton_image, cmap=plt.cm.gray)\n",
    "plt.show()\n",
    "\n",
    "# Save image to file\n",
    "save_image = exposure.rescale_intensity(skeleton_image, out_range=(0, 255))\n",
    "io.imsave('image_sample\\\\skeleton.png', save_image)\n",
    "\n"
   ]
  }
 ],
 "metadata": {
  "kernelspec": {
   "display_name": "Python 3",
   "language": "python",
   "name": "python3"
  },
  "language_info": {
   "codemirror_mode": {
    "name": "ipython",
    "version": 3
   },
   "file_extension": ".py",
   "mimetype": "text/x-python",
   "name": "python",
   "nbconvert_exporter": "python",
   "pygments_lexer": "ipython3",
   "version": "3.4.3"
  }
 },
 "nbformat": 4,
 "nbformat_minor": 0
}
